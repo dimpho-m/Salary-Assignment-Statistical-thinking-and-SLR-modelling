{
 "cells": [
  {
   "cell_type": "markdown",
   "metadata": {},
   "source": [
    "## Salary Assignment: An exploration of the various factors influencing salaries in a given data set\n",
    "\n",
    "### The notebook prepared will inspect the salaries of employees surveyed about their income as well as some background information about them. The intent is to explore the various factors that could possibly influence their income - if there are any. All salaries are in American dollars for this assisgnment."
   ]
  },
  {
   "cell_type": "markdown",
   "metadata": {},
   "source": [
    "### Notebook Contents\n",
    "\n",
    "### 1. Basic statistics \n",
    "#### The basic statistical information for the dataset is calculated and presented. This includes the total number of respondents, the minimum and maximum salary values, the mena and standard error of mean, the standard deviation for the years worked, the median and interquartile range for the salary sample. Where applicable, some visualizations will be included to better dispaly these statistics. \n",
    "\n",
    "### 2. Gender Statistics \n",
    "#### Some statiscal information and comparisons are observed for male and female respondents. The positions they hold are also taken into account. \n",
    "\n",
    "### 3. Working Experience \n",
    "#### Some statistics and graphical representations are plotted in order to explore the relationship between salaries and the number of years worked by employees.\n",
    "\n",
    "### 4. Conclusion \n",
    "#### The null hypothesis is weighed using the Pearson correlation coefficient, the p and alpha values .ie. statistical signficance."
   ]
  },
  {
   "cell_type": "markdown",
   "metadata": {},
   "source": [
    "### 1. Basic Statistics"
   ]
  },
  {
   "cell_type": "code",
   "execution_count": 12,
   "metadata": {},
   "outputs": [],
   "source": [
    "# Import all packages needed for the assisgnment\n",
    "import numpy as np\n",
    "import pandas as pd \n",
    "import seaborn as sns \n",
    "import matplotlib.pyplot as plt \n",
    "%matplotlib inline\n",
    "import statistics as stats\n",
    "import scipy "
   ]
  },
  {
   "cell_type": "code",
   "execution_count": 13,
   "metadata": {},
   "outputs": [
    {
     "data": {
      "text/html": [
       "<div>\n",
       "<style scoped>\n",
       "    .dataframe tbody tr th:only-of-type {\n",
       "        vertical-align: middle;\n",
       "    }\n",
       "\n",
       "    .dataframe tbody tr th {\n",
       "        vertical-align: top;\n",
       "    }\n",
       "\n",
       "    .dataframe thead th {\n",
       "        text-align: right;\n",
       "    }\n",
       "</style>\n",
       "<table border=\"1\" class=\"dataframe\">\n",
       "  <thead>\n",
       "    <tr style=\"text-align: right;\">\n",
       "      <th></th>\n",
       "      <th>salary</th>\n",
       "      <th>exprior</th>\n",
       "      <th>yearsworked</th>\n",
       "      <th>yearsrank</th>\n",
       "      <th>market</th>\n",
       "      <th>degree</th>\n",
       "      <th>otherqual</th>\n",
       "      <th>position</th>\n",
       "      <th>male</th>\n",
       "      <th>Field</th>\n",
       "      <th>yearsabs</th>\n",
       "    </tr>\n",
       "  </thead>\n",
       "  <tbody>\n",
       "    <tr>\n",
       "      <th>0</th>\n",
       "      <td>53000.0</td>\n",
       "      <td>0</td>\n",
       "      <td>0</td>\n",
       "      <td>0</td>\n",
       "      <td>1.17</td>\n",
       "      <td>1</td>\n",
       "      <td>0</td>\n",
       "      <td>1</td>\n",
       "      <td>1</td>\n",
       "      <td>3</td>\n",
       "      <td>0</td>\n",
       "    </tr>\n",
       "    <tr>\n",
       "      <th>1</th>\n",
       "      <td>58000.0</td>\n",
       "      <td>1</td>\n",
       "      <td>0</td>\n",
       "      <td>0</td>\n",
       "      <td>1.24</td>\n",
       "      <td>1</td>\n",
       "      <td>0</td>\n",
       "      <td>1</td>\n",
       "      <td>1</td>\n",
       "      <td>2</td>\n",
       "      <td>0</td>\n",
       "    </tr>\n",
       "    <tr>\n",
       "      <th>2</th>\n",
       "      <td>45500.0</td>\n",
       "      <td>0</td>\n",
       "      <td>0</td>\n",
       "      <td>0</td>\n",
       "      <td>1.21</td>\n",
       "      <td>1</td>\n",
       "      <td>0</td>\n",
       "      <td>1</td>\n",
       "      <td>1</td>\n",
       "      <td>3</td>\n",
       "      <td>2</td>\n",
       "    </tr>\n",
       "    <tr>\n",
       "      <th>3</th>\n",
       "      <td>35782.0</td>\n",
       "      <td>0</td>\n",
       "      <td>2</td>\n",
       "      <td>1</td>\n",
       "      <td>0.99</td>\n",
       "      <td>1</td>\n",
       "      <td>0</td>\n",
       "      <td>1</td>\n",
       "      <td>1</td>\n",
       "      <td>4</td>\n",
       "      <td>1</td>\n",
       "    </tr>\n",
       "    <tr>\n",
       "      <th>4</th>\n",
       "      <td>34731.0</td>\n",
       "      <td>0</td>\n",
       "      <td>2</td>\n",
       "      <td>2</td>\n",
       "      <td>0.91</td>\n",
       "      <td>1</td>\n",
       "      <td>0</td>\n",
       "      <td>1</td>\n",
       "      <td>1</td>\n",
       "      <td>4</td>\n",
       "      <td>1</td>\n",
       "    </tr>\n",
       "  </tbody>\n",
       "</table>\n",
       "</div>"
      ],
      "text/plain": [
       "    salary  exprior  yearsworked  yearsrank  market  degree  otherqual  \\\n",
       "0  53000.0        0            0          0    1.17       1          0   \n",
       "1  58000.0        1            0          0    1.24       1          0   \n",
       "2  45500.0        0            0          0    1.21       1          0   \n",
       "3  35782.0        0            2          1    0.99       1          0   \n",
       "4  34731.0        0            2          2    0.91       1          0   \n",
       "\n",
       "   position  male  Field  yearsabs  \n",
       "0         1     1      3         0  \n",
       "1         1     1      2         0  \n",
       "2         1     1      3         2  \n",
       "3         1     1      4         1  \n",
       "4         1     1      4         1  "
      ]
     },
     "execution_count": 13,
     "metadata": {},
     "output_type": "execute_result"
    }
   ],
   "source": [
    "salaries_df = pd.read_csv('salary.csv')\n",
    "salaries_df.head()"
   ]
  },
  {
   "cell_type": "code",
   "execution_count": 14,
   "metadata": {},
   "outputs": [
    {
     "name": "stdout",
     "output_type": "stream",
     "text": [
      "Number of survey respondents: 514\n"
     ]
    }
   ],
   "source": [
    "# The total number of respondents is calculated\n",
    "num_respondents = len(salaries_df)\n",
    "print('Number of survey respondents:' + ' ' + str(num_respondents))"
   ]
  },
  {
   "cell_type": "code",
   "execution_count": 15,
   "metadata": {},
   "outputs": [
    {
     "name": "stdout",
     "output_type": "stream",
     "text": [
      "<class 'pandas.core.frame.DataFrame'>\n",
      "RangeIndex: 514 entries, 0 to 513\n",
      "Data columns (total 11 columns):\n",
      "salary         513 non-null float64\n",
      "exprior        514 non-null int64\n",
      "yearsworked    514 non-null int64\n",
      "yearsrank      514 non-null int64\n",
      "market         514 non-null float64\n",
      "degree         514 non-null int64\n",
      "otherqual      514 non-null int64\n",
      "position       514 non-null int64\n",
      "male           514 non-null int64\n",
      "Field          514 non-null int64\n",
      "yearsabs       514 non-null int64\n",
      "dtypes: float64(2), int64(9)\n",
      "memory usage: 44.3 KB\n"
     ]
    }
   ],
   "source": [
    "salaries_df.info()"
   ]
  },
  {
   "cell_type": "code",
   "execution_count": 16,
   "metadata": {},
   "outputs": [],
   "source": [
    "# The null value is replaced with the salary mean value\n",
    "salaries_df['salary'].fillna(value = salaries_df['salary'].mean(), inplace = True)"
   ]
  },
  {
   "cell_type": "markdown",
   "metadata": {},
   "source": [
    "#### There are 514 survey respondents in total. However one of the values in the salary column is null. This may be that the respondent chose to leave that question out when answering the survey. This value is not dropped but is instead replaced with the mean salary value which amounts to 50 863.22."
   ]
  },
  {
   "cell_type": "code",
   "execution_count": 17,
   "metadata": {},
   "outputs": [
    {
     "name": "stdout",
     "output_type": "stream",
     "text": [
      "29000.0 96156.0\n"
     ]
    }
   ],
   "source": [
    "# The lowest and highest salary values are calculated \n",
    "lowest_salary = salaries_df['salary'].min()\n",
    "highest_salary = salaries_df['salary'].max()\n",
    "\n",
    "print(lowest_salary, highest_salary)\n"
   ]
  },
  {
   "cell_type": "markdown",
   "metadata": {},
   "source": [
    "#### The lowest salary is 29 000.00 and the highest salary is 95 156.00."
   ]
  },
  {
   "cell_type": "code",
   "execution_count": 18,
   "metadata": {},
   "outputs": [
    {
     "name": "stdout",
     "output_type": "stream",
     "text": [
      "558.9715980665014\n"
     ]
    }
   ],
   "source": [
    "# The salary mean was calculated above in order to replace the null values and the standard error for the mean will be\n",
    "# calculated below\n",
    "salary_mean_error = scipy.stats.sem(salaries_df['salary'])\n",
    "print(salary_mean_error)"
   ]
  },
  {
   "cell_type": "markdown",
   "metadata": {},
   "source": [
    "#### The salary mean is 50 863.22 and the standard error of the mean is 558.97."
   ]
  },
  {
   "cell_type": "code",
   "execution_count": 19,
   "metadata": {},
   "outputs": [
    {
     "name": "stdout",
     "output_type": "stream",
     "text": [
      "9.444695144169815\n"
     ]
    }
   ],
   "source": [
    "std_dev_yearsworked = stats.stdev(salaries_df['yearsworked'])\n",
    "print(std_dev_yearsworked)"
   ]
  },
  {
   "cell_type": "markdown",
   "metadata": {},
   "source": [
    "#### The standard deviation for the years worked is 9.44. This number represents the spread of data for the number of years worked for the 514 respondents."
   ]
  },
  {
   "cell_type": "code",
   "execution_count": 20,
   "metadata": {},
   "outputs": [
    {
     "name": "stdout",
     "output_type": "stream",
     "text": [
      "50165.5\n"
     ]
    }
   ],
   "source": [
    "# The median salary is calculated \n",
    "salary_median = salaries_df['salary'].median()\n",
    "print(salary_median)"
   ]
  },
  {
   "cell_type": "markdown",
   "metadata": {},
   "source": [
    "#### The 'middle' value for the salaries is 50 165.50. This is the meausre of central tendency for the salries column and is not skewed by the maximum and minimum salaries values. "
   ]
  },
  {
   "cell_type": "code",
   "execution_count": 21,
   "metadata": {},
   "outputs": [
    {
     "name": "stdout",
     "output_type": "stream",
     "text": [
      "20306.25\n"
     ]
    }
   ],
   "source": [
    "# The IQR is calculated for the salary column \n",
    "salary_iqr = scipy.stats.iqr(salaries_df['salary'])\n",
    "print(salary_iqr)"
   ]
  },
  {
   "cell_type": "code",
   "execution_count": 22,
   "metadata": {},
   "outputs": [
    {
     "data": {
      "image/png": "[encoded data removed]",
      "text/plain": [
       "<Figure size 432x288 with 1 Axes>"
      ]
     },
     "metadata": {},
     "output_type": "display_data"
    }
   ],
   "source": [
    "# A boxplot is created to graphically present the IQR for salaries \n",
    "sns.set()\n",
    "_ = plt.boxplot(salaries_df['salary'])\n",
    "_ = plt.xlabel('Salary')\n",
    "_ = plt.ylabel('Amount ($)')\n",
    "_ = plt.title('A box plot representing some of the salary statistics')\n",
    "plt.show()\n"
   ]
  },
  {
   "cell_type": "markdown",
   "metadata": {},
   "source": [
    "#### The graphic corresponds with the calculated value. Given that the IQR is the difference between the Q3 (top of the box) and Q1 (bottom of the box), the IQR is 20 306.25."
   ]
  },
  {
   "cell_type": "markdown",
   "metadata": {},
   "source": [
    "### 2. Gender Statistics  "
   ]
  },
  {
   "cell_type": "code",
   "execution_count": 49,
   "metadata": {},
   "outputs": [
    {
     "data": {
      "text/html": [
       "<div>\n",
       "<style scoped>\n",
       "    .dataframe tbody tr th:only-of-type {\n",
       "        vertical-align: middle;\n",
       "    }\n",
       "\n",
       "    .dataframe tbody tr th {\n",
       "        vertical-align: top;\n",
       "    }\n",
       "\n",
       "    .dataframe thead th {\n",
       "        text-align: right;\n",
       "    }\n",
       "</style>\n",
       "<table border=\"1\" class=\"dataframe\">\n",
       "  <thead>\n",
       "    <tr style=\"text-align: right;\">\n",
       "      <th></th>\n",
       "      <th>Male</th>\n",
       "      <th>Female</th>\n",
       "    </tr>\n",
       "  </thead>\n",
       "  <tbody>\n",
       "    <tr>\n",
       "      <th>0</th>\n",
       "      <td>138</td>\n",
       "      <td>128</td>\n",
       "    </tr>\n",
       "  </tbody>\n",
       "</table>\n",
       "</div>"
      ],
      "text/plain": [
       "   Male  Female\n",
       "0   138     128"
      ]
     },
     "execution_count": 49,
     "metadata": {},
     "output_type": "execute_result"
    }
   ],
   "source": [
    "# The number of male and female respondents are tabulated \n",
    "num_males = salaries_df['male'].value_counts()\n",
    "\n",
    "numbers = {'Male': [138], 'Female': [128]}\n",
    "\n",
    "respondents = pd.DataFrame(data = numbers) \n",
    "respondents.head()"
   ]
  },
  {
   "cell_type": "code",
   "execution_count": 50,
   "metadata": {},
   "outputs": [
    {
     "name": "stdout",
     "output_type": "stream",
     "text": [
      "The number of female executives in the survey is 19\n"
     ]
    }
   ],
   "source": [
    "# The number of female executives are represented in a dataframe and then counted \n",
    "female_execs_df = salaries_df[(salaries_df.position == 3) & (salaries_df.male == 0)]\n",
    "female_execs_df.head()\n",
    "print('The number of female executives in the survey is' + ' ' + str(len(female_execs_df)))"
   ]
  },
  {
   "cell_type": "markdown",
   "metadata": {},
   "source": [
    "#### The number of female executives who responded to the survey are only 19. This means that women make up only 9% of total executives that responded to this survey. "
   ]
  },
  {
   "cell_type": "code",
   "execution_count": 51,
   "metadata": {},
   "outputs": [
    {
     "data": {
      "image/png": "[encoded data removed]",
      "text/plain": [
       "<Figure size 432x288 with 1 Axes>"
      ]
     },
     "metadata": {},
     "output_type": "display_data"
    }
   ],
   "source": [
    "# A histogram is plotted for the salary column \n",
    "sns.set()\n",
    "plt.hist(salaries_df.salary, color = 'blue')\n",
    "plt.xlabel('Salary brackets')\n",
    "plt.ylabel('Number of respondents')\n",
    "plt.title('The distribution of salaries of survey respondents')\n",
    "plt.show()"
   ]
  },
  {
   "cell_type": "markdown",
   "metadata": {},
   "source": [
    "#### The distribution is skewed slightly more to the left. The histogram above informs us that there about 100 respondents who fall in the salary bracket between 35 000 - 42 000. This appears to be the highest number graphically because of the height of the bar, but may not correspond with the information found in the cell above. This is because the largest number of respondents by position held were Executives. The likelihood of executives having a lower salary bracket than other positions surveyed is slim. This histogram of course only depicts salaries, so other factors that may contribute to the variance in salaries is excluded.\n",
    "\n",
    "#### A second look at the histogram, observing the 42 000 - 62 000 salary bracket, tells us that there is a larger concentration of respondents that sit within this bracket. The amount is roughly 250 respondents. These respondents may be a mix of juniors, managers and executives across various industries and fields in different companies. \n",
    "\n",
    "#### The least number of respondents fell within the 82 000 - 89 000 salary bracket. "
   ]
  },
  {
   "cell_type": "code",
   "execution_count": 30,
   "metadata": {},
   "outputs": [
    {
     "name": "stdout",
     "output_type": "stream",
     "text": [
      "[60, 49, 19] [83, 111, 192]\n"
     ]
    }
   ],
   "source": [
    "# A nested for loop counts the number of respondents for each position by gender and returns the values in list.    \n",
    "women_arr = []\n",
    "men_arr = []\n",
    "\n",
    "for i in range(1, 4):\n",
    "    position_list = [len(salaries_df[(salaries_df.position == i) & (salaries_df.male == n)]) for n in range(0, 2)]\n",
    "    women_arr.append(position_list[0])\n",
    "    men_arr.append(position_list[1])\n",
    "print(women_arr, men_arr)"
   ]
  },
  {
   "cell_type": "code",
   "execution_count": 37,
   "metadata": {},
   "outputs": [
    {
     "name": "stdout",
     "output_type": "stream",
     "text": [
      "3    211\n",
      "2    160\n",
      "1    143\n",
      "Name: position, dtype: int64\n"
     ]
    }
   ],
   "source": [
    "# The most popular respondent by position held \n",
    "positions = salaries_df.position.value_counts()\n",
    "print(positions)"
   ]
  },
  {
   "cell_type": "code",
   "execution_count": 31,
   "metadata": {},
   "outputs": [
    {
     "data": {
      "image/png": "[encoded data removed]",
      "text/plain": [
       "<Figure size 432x288 with 1 Axes>"
      ]
     },
     "metadata": {},
     "output_type": "display_data"
    }
   ],
   "source": [
    "# A bar graph is plotted to graphically represent the the respondents surveyed by gender and position held \n",
    "position_names = ['Juniors', 'Managers', 'Executives']\n",
    "genders = ['Male', 'Female']\n",
    "colours = ['#009E73', '#D55E00']\n",
    "\n",
    "plt.bar(position_names, men_arr, color = colours[0])\n",
    "plt.bar(position_names, women_arr, color = colours[1], bottom = men_arr )\n",
    "\n",
    "plt.xlabel('Position held')\n",
    "plt.ylabel('Number of respondents')\n",
    "plt.title('The positions held according to gender')\n",
    "plt.legend(genders)\n",
    "plt.show()"
   ]
  },
  {
   "cell_type": "markdown",
   "metadata": {},
   "source": [
    "#### The plot above depicts the gender population according to positions held. We know from the calculations above that there were more male respondents in this particular survey. It is clear that overall males make up majority of the employees across all positions. The gender distribution is almost 50% for junior positions and significantly decreases as the position rank increases. It is clear that women still make up only a very small portion of the executive work force in comapnies across various industries. This is no surprise as women are still lagging behind with regards to equity and representation in senior positions. The survey data findings correspond with world statistics in this regard."
   ]
  },
  {
   "cell_type": "code",
   "execution_count": 63,
   "metadata": {},
   "outputs": [],
   "source": [
    "# The average salaries of men and women across all positions are plotted with error bars \n",
    "# of 95% confidence levels \n",
    "sal = salaries_df[['salary','male']]\n",
    "men = sal[sal.male == 1]\n",
    "women = sal[sal.male == 0]\n",
    "\n",
    "averages = []\n",
    "averages.append(men['salary'].mean())\n",
    "averages.append(women['salary'].mean())\n",
    "\n",
    "errors = []\n",
    "errors.append(np.std(men['salary']))\n",
    "errors.append(np.std(women['salary']))           "
   ]
  },
  {
   "cell_type": "code",
   "execution_count": 64,
   "metadata": {},
   "outputs": [
    {
     "data": {
      "image/png": "[encoded data removed]",
      "text/plain": [
       "<Figure size 432x288 with 1 Axes>"
      ]
     },
     "metadata": {},
     "output_type": "display_data"
    }
   ],
   "source": [
    "genders = ['Male', 'Female']\n",
    "colours = ['#009E73', '#D55E00']\n",
    "\n",
    "x_position = np.arange(len(genders))\n",
    "\n",
    "fig, ax = plt.subplots()\n",
    "ax.bar(x_position, averages, yerr = errors, align='center', alpha = 0.5, ecolor='black', capsize = 10)\n",
    "ax.set_xlabel('Genders')\n",
    "ax.set_xticks(x_position)\n",
    "ax.set_xticklabels(genders)\n",
    "ax.set_ylabel('Average salary')\n",
    "ax.set_title('The average salaries of men and women with error bars')\n",
    "plt.show()"
   ]
  },
  {
   "cell_type": "markdown",
   "metadata": {},
   "source": [
    "#### The plot above shows that male employees generally earn more than their female counterparts. A 95% confidence level means that if the same population of respondents is sampled on numerous occasions and interval estimates are made on each occasion, the resulting intervals would bracket the true mean in approximately 95 % of the cases. "
   ]
  },
  {
   "cell_type": "markdown",
   "metadata": {},
   "source": [
    "### 3. Working Experience"
   ]
  },
  {
   "cell_type": "code",
   "execution_count": 65,
   "metadata": {},
   "outputs": [
    {
     "data": {
      "text/plain": [
       "Text(0.5, 1.0, 'The relationship between salaries and the number of years worked')"
      ]
     },
     "execution_count": 65,
     "metadata": {},
     "output_type": "execute_result"
    },
    {
     "data": {
      "image/png": "[encoded data removed]",
      "text/plain": [
       "<Figure size 432x288 with 1 Axes>"
      ]
     },
     "metadata": {},
     "output_type": "display_data"
    }
   ],
   "source": [
    "# A scatterplot showing Years worked vs Salary \n",
    "sal_by_years = salaries_df[['salary', 'yearsworked']]\n",
    "sns.regplot(x = 'yearsworked', y='salary', data=sal_by_years)\n",
    "plt.title('The relationship between salaries and the number of years worked')"
   ]
  },
  {
   "cell_type": "markdown",
   "metadata": {},
   "source": [
    "#### What we can draw from the scatterplot above and trend line is that there is a positive linear relationship between the salaries earned and the number of years a respondent has worked. One is likely to earn more as the number of year worked increases. There is a density in population below the trend line for respondents who have worked less than 10 years with salaries beneath 40 000 dollars and anothe concetration of respondents who have worked between 20 - 30 years with salaries averagingaround 65 000 dollars.\n",
    "\n",
    "#### There are a few outliers in this plot. A clear example is the respondent who has a salary of almost 100 000 dollars and less than 15 years work experience, whilst there is another respondent with over 40 years work experience and a salary of about 65 000 dollars. These outliers allude to the fact that today one needs more than just years of experience in order to earn a comfotable or high salary. The skills set and position held also play a factor."
   ]
  },
  {
   "cell_type": "markdown",
   "metadata": {},
   "source": [
    "### 4. Conclusion"
   ]
  },
  {
   "cell_type": "code",
   "execution_count": 67,
   "metadata": {},
   "outputs": [
    {
     "data": {
      "text/plain": [
       "(0.6231354820920552, 1.2747795189693407e-56)"
      ]
     },
     "execution_count": 67,
     "metadata": {},
     "output_type": "execute_result"
    }
   ],
   "source": [
    "# The Pearson correlation coefficient is calculated along with the corresponding p value in\n",
    "# order to determine the nature of the relation between the years worked and salary \n",
    "scipy.stats.pearsonr(sal_by_years['salary'], sal_by_years['yearsworked'])"
   ]
  },
  {
   "cell_type": "markdown",
   "metadata": {},
   "source": [
    "#### The null hypothesis made is that the salary increases as the number of years worked does. This is to say that there is direct positive relationship between the salary one earns and the years of working experience they have. \n",
    "\n",
    "#### We have chosen 5% or 0.05 as the alpha value for significance. The Pearson correlation coefficient is 0.62. This number indicates that there is some positive correlation between the number of years worked and the salaries earned. \n",
    "\n",
    "#### The p value for this test is 1.2747795189693407e-57 which is significantly smaller than the alpha value or significance threshold. This causes us to reject the null hypothesis."
   ]
  }
 ],
 "metadata": {
  "kernelspec": {
   "display_name": "Python 3",
   "language": "python",
   "name": "python3"
  },
  "language_info": {
   "codemirror_mode": {
    "name": "ipython",
    "version": 3
   },
   "file_extension": ".py",
   "mimetype": "text/x-python",
   "name": "python",
   "nbconvert_exporter": "python",
   "pygments_lexer": "ipython3",
   "version": "3.7.4"
  }
 },
 "nbformat": 4,
 "nbformat_minor": 2
}
